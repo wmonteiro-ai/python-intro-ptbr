{
 "cells": [
  {
   "cell_type": "markdown",
   "id": "adca3370-18fb-41c2-8097-b662b14a6456",
   "metadata": {},
   "source": [
    "# Juntando mais de duas pessoas para trabalhar na mesma coisa, e sem brigas: controle de versões"
   ]
  },
  {
   "cell_type": "markdown",
   "id": "4da69cca-6053-4f0c-a351-34c5642d578c",
   "metadata": {},
   "source": [
    "## O que você saberá se você ler todo este capítulo?\n",
    "\n",
    "1. Você saberá por que usamos coisas como \"controle de versão\" e \"Git\" em equipes de TI.\n",
    "2. Você saberá qual é a diferença entre Git e Github.\n",
    "3. Você saberá que outras alternativas além do Git (e do Github) existem dentro das empresas.\n",
    "4. Você saberá o que são coisas como pull requests, branches e as boas práticas ao se trabalhar com Git."
   ]
  },
  {
   "cell_type": "markdown",
   "id": "cffbf798",
   "metadata": {},
   "source": [
    "## Lembra do TCC?\n",
    "\n",
    "É provável que você não queria se lembrar do Trabalho de Conclusão de Curso (TCC) justo aqui, mas acho que é um bom exemplo para explicar a necessidade do **Git**. Vamos supor que o seu TCC seja um projeto a ser feito em grupo (pior ainda, né?). O projeto consiste em vários capítulos, gráficos, referências e anexos. Todos no grupo têm uma parte para contribuir, e vocês decidem dividir o trabalho em seções.\n",
    "\n",
    "Inicialmente, vocês tentam enviar versões do trabalho por e-mail, mas rapidamente se deparam com confusões. Quem tem a versão mais recente? Quem corrigiu aquele erro no capítulo 3? E se duas pessoas editarem a mesma seção ao mesmo tempo? Rapidamente, seu e-mail está inundado com versões como `TrabalhoFinal_v1`, `TrabalhoFinal_v2_revisado`, `TrabalhoFinal_v3_Joao_editou` e assim por diante. Além disso, em um ponto crítico, alguém acidentalmente sobrescreve o trabalho de outra pessoa, perdendo horas de esforço. Já pensou no estresse atômico que seria isso, né?"
   ]
  },
  {
   "cell_type": "markdown",
   "id": "2f4c2682",
   "metadata": {},
   "source": [
    "<figure>\n",
    "    <img alt=\"Resultado de um teste de uma bomba atômica\" src=\"https://upload.wikimedia.org/wikipedia/commons/1/14/NuclearTestUS.gif\" style=\"max-width:400px; display: block; margin: auto;\">\n",
    "    <figcaption style=\"text-align:center;\">Resultado de um teste de uma bomba atômica. Créditos: <a href=\"https://commons.wikimedia.org/wiki/File:NuclearTestUS.gif\">Trinity and Beyond: The Atomic Bomb Movie, United States Department of Energy</a>.</figcaption>\n",
    "</figure>"
   ]
  },
  {
   "cell_type": "markdown",
   "id": "b351844a",
   "metadata": {},
   "source": [
    "Agora, e se tivesse um sistema mágico, como um \"*Google Docs avançado*\", onde todos pudessem fazer as suas contribuições em partes distintas do trabalho ao mesmo tempo, e sem ter o risco de um atrapalhar o outro? Cada mudança é registrada com detalhes: quem fez, quando fez e o que foi alterado. Se alguém cometer um erro, você pode facilmente voltar a uma versão anterior, ou até comparar o que mudou. Se duas pessoas editarem a mesma parte simultaneamente, o sistema avisa e permite que vocês decidam qual versão manter, ou até combinar ambas. Interessante, né?\n",
    "\n",
    "Esse \"Google Docs avançado\" é como um **sistema de controle de versões**, mas para projetos de software. Ele garante que todos os colaboradores possam trabalhar juntos, de maneira ordenada e eficiente, mantendo um histórico detalhado de todas as alterações. Em vez de se perderem em um mar de versões de documentos e correções, você possui uma linha clara de progresso e colaboração.\n",
    "\n",
    "> **Dica:** isso é especialmente interessante para as pessoas que interagem com a construção e manutenção de sistemas de TI. Ao contrário de um único documento, essas pessoas trabalham com centenas ou milhares de arquivos ao mesmo tempo e, para ajudar, não é uma equipe de TCC de três ou quatro pessoas, mas sim dezenas (ou centenas) de pessoas ao mesmo tempo."
   ]
  },
  {
   "cell_type": "markdown",
   "id": "434f0b77",
   "metadata": {},
   "source": [
    "## Sistema de Controle de Versões\n",
    "\n",
    "Continuando as nossas analogias, vamos partir da premissa que cada pessoa que trabalha na criação e desenvolvimento de software em uma empresa é como uma escritora trabalhando em um grande livro em parceria com outros escritores. Cada capítulo desse livro é como um projeto ou funcionalidade diferente de um software.\n",
    "\n",
    "Em alguns dias, a nossa escritora escreve páginas e mais páginas. Em outros dias, ela decide reescrever ou corrigir algumas partes. No processo, ela pode querer voltar a versões anteriores do seu trabalho para verificar ou retomar algo que estava melhor antes. Seria um desastre se ela tivesse apenas um manuscrito e, ao fazer uma mudança, perdesse tudo o que foi escrito anteriormente.\n",
    "\n",
    "É aí entra o **controle de versão**. Cada vez que a nossa escritora termina de escrever algo significativo, ela pode salvar uma **versão** do seu trabalho na máquina. Se no futuro ela quiser voltar a um ponto anterior, basta selecionar a versão correspondente e... voilà! O livro está de volta àquela versão.\n",
    "\n",
    "> Ou seja: o segredo (ou vantagem) do controle de versões é possibilitar que várias pessoas trabalhem na mesma coisa ao mesmo tempo, e sem que um atrapalhe (muito) o trabalho do outro. Isso é bem importante em desenvolvimento de software, já que várias pessoas desenvolvem diferentes funcionalidades ou correções dentro de um mesmo sistema."
   ]
  },
  {
   "cell_type": "markdown",
   "id": "faa2ab06",
   "metadata": {},
   "source": [
    "Vamos pensar em um outro exemplo, um pouco mais técnico: você resolveu criar um novo aplicativo de delivery de comida. Este aplicativo possui várias telas como, por exemplo, uma de pagamento, uma com o pedido em andamento, e uma com os restaurantes listados. Além disso, precisamos trabalhar em outros códigos que não necessariamente o cliente verá, mas que são imprescindíveis para o negócio. Isto inclui códigos para realizar o cadastro de clientes, pagamentos por cartão, e registro de pedidos. Como você deve imaginar, se este aplicativo estiver fazendo sucesso você precisará de uma grande equipe para cuidá-lo.\n",
    "\n",
    "Agora, como esta equipe trabalhará? Vou usar um dos sistemas de controle de versão mais comuns (o Git) como exemplo. O primeiro conceito que precisamos esclarecer é o de **repositório (ou *repo*):** este é o local seguro onde os desenvolvedores de software guardam todos os códigos e outros recursos adicionais que o aplicativo possa precisar. Dependendo do caso, isto pode incluir coisas como o ícone do aplicativo e algumas documentações de código internas.\n",
    "\n",
    "Várias empresas trabalham de forma parecida com o da imagem abaixo: temos um repositório central que fica em um servidor na nuvem (e de propriedade da empresa), e todos os funcionários que precisam mexer com aquele repositório clonarão uma cópia local. Isto é: pegarão uma cópia para salvar em seu próprio computador."
   ]
  },
  {
   "cell_type": "markdown",
   "id": "fa1d7ebd",
   "metadata": {},
   "source": [
    "<figure>\n",
    "    <img alt=\"Clonagem de repositórios\" src=\"https://wac-cdn.atlassian.com/dam/jcr:a226d62e-3f0f-4c7e-8d99-c3c73188f9f6/01.svg?cdnVersion=1189\" style=\"max-width:600px; display: block; margin: auto;\">\n",
    "    <figcaption style=\"text-align:center;\">Clonagem de repositórios. Créditos: <a href=\"https://www.atlassian.com/git/tutorials/learn-git-with-bitbucket-cloud\">Atlassian</a>.</figcaption>\n",
    "</figure>"
   ]
  },
  {
   "cell_type": "markdown",
   "id": "946d4455",
   "metadata": {},
   "source": [
    "Estes funcionários também frequentemente sincronizarão as suas alterações com o repositório local: afinal de contas, mais de uma pessoa estará trabalhando ao mesmo tempo, e é importante que todos estejam sempre atualizados."
   ]
  },
  {
   "cell_type": "markdown",
   "id": "dc5e7218",
   "metadata": {},
   "source": [
    "<figure>\n",
    "    <img alt=\"Sincronizando repositórios\" src=\"https://wac-cdn.atlassian.com/dam/jcr:c24540ba-3f2b-4697-9fd3-91242f5ac5f2/05.svg?cdnVersion=1189\" style=\"max-width:400px; display: block; margin: auto;\">\n",
    "    <figcaption style=\"text-align:center;\">Sincronizando repositórios. Créditos: <a href=\"https://www.atlassian.com/git/tutorials/learn-git-with-bitbucket-cloud\">Atlassian</a>.</figcaption>\n",
    "</figure>"
   ]
  },
  {
   "cell_type": "markdown",
   "id": "e037daa8",
   "metadata": {},
   "source": [
    "Agora, todas as vezes em que os desenvolvedores terminarem um pequeno pedaço do trabalho vale a pena salvar as alterações. Afinal de contas, vai que acaba a luz, acaba a conexão com a internet, ou precisemos voltar atrás para testar ou corrigir alguma versão anterior. Assim, o **commit** é o ato de salvar uma versão atual do trabalho para que possamos voltar a ela no futuro, se necessário.\n",
    "\n",
    "Esses **commits** se organizam em um histórico linear: sabemos qual commit veio antes ou depois, e sabemos quem criou cada commit. Esses commits se organizam em **branches**. Não sei você, mas às vezes eu preciso trabalhar em um canto mais quieto para que eu acabe não sendo distraído por outras pessoas e, ainda, que eu não incomode as outras pessoas também. O *branch* é como se fosse esse canto mais quieto: criamos uma ramificação do repositório para que testemos as nossas próprias alterações sem incomodar os demais.\n",
    "\n",
    "Na imagem abaixo, temos uma branch chamada **main**. Esta branch possui quatro bolinhas: cada bolinha representa um **commit**. Ou seja: olhando a imagem abaixo, temos quatro versões de algum repositório."
   ]
  },
  {
   "cell_type": "markdown",
   "id": "ad04bc92",
   "metadata": {},
   "source": [
    "<figure>\n",
    "    <img alt=\"Commits and branches\" src=\"https://wac-cdn.atlassian.com/dam/jcr:3b5d663b-0b1c-4321-a32c-0708769e8aeb/04%20Create%20a%20branch%20and%20make%20a%20change.svg?cdnVersion=1189\" style=\"max-width:600px; display: block; margin: auto;\">\n",
    "    <figcaption style=\"text-align:center;\">Commits e branches. Créditos: <a href=\"https://www.atlassian.com/git/tutorials/learn-git-with-bitbucket-cloud\">Atlassian</a>.</figcaption>\n",
    "</figure>"
   ]
  },
  {
   "cell_type": "markdown",
   "id": "b97d65cf",
   "metadata": {},
   "source": [
    "Todo repositório em Git tem uma branch principal. É como se fosse um tronco de uma árvore, mesmo. O nome deste tronco é **main** ou **master**, dependendo do repositório que esteja trabalhando. A partir deste tronco podemos ter outros galhos (branches), e estes galhos podem dar origem a outros galhos (branches). Veja o exemplo abaixo: a branch principal (em azul claro, no meio) originou em diferentes momentos duas outras branches: uma em roxo (em cima) e outra verde (embaixo). No desenho abaixo temos 9 commits diferentes."
   ]
  },
  {
   "cell_type": "markdown",
   "id": "ab5b26b2",
   "metadata": {},
   "source": [
    "<figure>\n",
    "    <img alt=\"Commits and branches\" src=\"https://wac-cdn.atlassian.com/dam/jcr:389059a7-214c-46a3-bc52-7781b4730301/hero.svg?cdnVersion=1189\" style=\"max-width:600px; display: block; margin: auto;\">\n",
    "    <figcaption style=\"text-align:center;\">Várias branches. Créditos: <a href=\"https://www.atlassian.com/git/tutorials/using-branches/git-merge\">Atlassian</a>.</figcaption>\n",
    "</figure>"
   ]
  },
  {
   "cell_type": "markdown",
   "id": "90823633",
   "metadata": {},
   "source": [
    "Geralmente usamos branches para desenvolvermos novas funcionalidades no código ou para testar alguma coisa diferente. Veja a figura abaixo: temos uma branch principal (em azul). A partir de um commit, criamos uma nova branch (embaixo, em verde) para implementarmos uma nova funcionalidade, como um botão novo em um aplicativo. Veja que criamos três commits na branch em verde. *Enquanto isso*, outras pessoas continuaram trabalhando na branch principal, em azul.\n",
    "\n",
    "E agora? E se quisermos juntar as nossas modificações da branch em verde com a branch principal, em azul?"
   ]
  },
  {
   "cell_type": "markdown",
   "id": "5fc016fe",
   "metadata": {},
   "source": [
    "<figure>\n",
    "    <img alt=\"Commits and branches\" src=\"https://wac-cdn.atlassian.com/dam/jcr:7afd8460-b7bf-4c42-b997-4f5cf24f21e8/01%20Branch-2%20kopiera.png?cdnVersion=1189\" style=\"max-width:500px; display: block; margin: auto;\">\n",
    "    <figcaption style=\"text-align:center;\">Duas branches. Créditos: <a href=\"https://www.atlassian.com/git/tutorials/using-branches/git-merge\">Atlassian</a>.</figcaption>\n",
    "</figure>"
   ]
  },
  {
   "cell_type": "markdown",
   "id": "73aef953",
   "metadata": {},
   "source": [
    "É aí que entra o processo de **merge**: juntamos (ou unificamos) as alterações que havíamos feito na branch verde com a nossa branch principal, em azul. Agora, esta funcionalidade está disponível para todos os outros desenvolvedores que venham a trabalhar com o código atualizado. Veja como ficou:"
   ]
  },
  {
   "cell_type": "markdown",
   "id": "fbf28af7",
   "metadata": {},
   "source": [
    "<figure>\n",
    "    <img alt=\"Commits and branches\" src=\"https://wac-cdn.atlassian.com/dam/jcr:c6db91c1-1343-4d45-8c93-bdba910b9506/02%20Branch-1%20kopiera.png?cdnVersion=1189\" style=\"max-width:500px; display: block; margin: auto;\">\n",
    "    <figcaption style=\"text-align:center;\">Duas branches. Créditos: <a href=\"https://www.atlassian.com/git/tutorials/using-branches/git-merge\">Atlassian</a>.</figcaption>\n",
    "</figure>"
   ]
  },
  {
   "cell_type": "markdown",
   "id": "a41abe0e",
   "metadata": {},
   "source": [
    "> **Dica:** às vezes, ao tentar mesclar (merge) o código podemos descobrir que outra pessoa mexeu exatamente no lugar em que estávamos trabalhando. Isto pode gerar um conflito em alguma parte em que precisaremos decidir qual versão manter. No controle de versão, isso é chamado de **conflito**, e o sistema não fará o merge automaticamente: é necessária uma decisão manual."
   ]
  },
  {
   "cell_type": "markdown",
   "id": "cf29424a",
   "metadata": {},
   "source": [
    "## Sistemas de Controle de Versão Mais Comuns\n",
    "\n",
    "Agora, empresas com uma preocupação minimamente aceitável com a segurança dos seus códigos usam algum tipo de sistema de controle de versão. Vou explicar brevemente alguns deles e, ainda, algumas analogias usando sistemas bancários, beleza? Você também pode se perguntar: *\"mas eu sou um analista de negócio, por que preciso aprender sobre isso?\"*. A resposta é simples: em um ambiente de trabalho cada vez mais digital e colaborativo, as ferramentas que os desenvolvedores utilizam começam a ser úteis para profissionais de diversas áreas também. Logo, não necessariamente todos os que trabalham com controle de versão trabalham também com código. Tempos atrás, as metodologias ágeis eram \"coisa de TI\", e agora são usados também por vários outros times (muitas vezes do jeito errado, é verdade). Por que não ocorreria o mesmo com sistemas de controle de versão?\n",
    "\n",
    "Ah, além disso, quando você trabalha com equipes técnicas, saber como estes sistemas funcionam permite que você participe de projetos de TI, que você colabore de um jeito melhor com as pessoas destas equipes e, além de tudo isso, você pode entender melhor como funciona o fluxo de criação e modificação de um projeto. Não estamos falando só de criação de código aqui, mas sim de gestão de informação e colaboração. *E o que é o seu trabalho do que um grande desafio de gestão de informação e colaboração para a tomada de decisão, não é?*\n",
    "\n",
    "### Git\n",
    "Este é o sistema de controle de versão mais usado nas empresas. Ele é distribuído, o que significa que cada desenvolvedor tem uma cópia completa do histórico do repositório em seu computador.\n",
    "\n",
    "> *Curiosidade:* [o mesmo cara](https://en.wikipedia.org/wiki/Linus_Torvalds) que criou o Linux (que também é a base do Android) também criou o Git.\n",
    "\n",
    "Ele poderia ser comparado com uma instituição financeira moderna, como o Nubank. Cada cliente (desenvolvedor) tem uma conta bancária completa em seu celular (uma cópia do repositório). Eles podem revisar seu histórico de transações, fazer pagamentos e outras atividades sem precisar ir ao banco. De tempos em tempos, as informações que estão no celular são sincronizadas com o banco para garantir que todos os registros estejam alinhados.\n",
    "\n",
    "#### Git e Github\n",
    "Se você já ouviu falar em Git, também deve ter ouvido falar sobre o Github. Se o Git é uma tecnologia, o Github (ou competidores como o GitLab, Bitbucket e outros) são soluções que implementam aquela tecnologia. Isto é: se o Git fosse um chinelo, o Github/GitLab/Bitbucket e outros seriam marcas como Havaianas, Ipanema, Rider, entre outros. Ficou mais claro, né?\n",
    "\n",
    "### Subversion (SVN)\n",
    "Antes do Git existir, o SVN era muito popular. E, diferentemente do Git, ele é centralizado. Isto significa que existe um repositório central e os desenvolvedores baixam e enviam alterações para ele.\n",
    "\n",
    "Como uma analogia, ele é parecido com um bancão tradicional. Existe apenas uma agência na cidade (repositório). Os clientes (desenvolvedores) precisam ir ao banco para ver seu histórico completo de transações ou fazer qualquer atividade significativa. Eles podem ter um pedaço de papel guardado em casa contendo as suas transações (cópia de trabalho), mas o registro completo está apenas no banco.\n",
    "\n",
    "### Mercurial\n",
    "Assim como o Git, o Mercurial é distribuído. Ele tende a ser um pouco mais simples em termos de interface do usuário.\n",
    "\n",
    "Ele pode ser comparado com algum tipo de novo banco por aplicativo. Ele possui menos funcionalidades e é mais simplificado, mas esta simplicidade pode ser desejável em alguns casos específicos.\n",
    "\n",
    "### Team Foundation Version Control (TFVC)\n",
    "Oferecido pela Microsoft como parte de uma solução chamada Azure DevOps. É centralizado, semelhante ao SVN.\n",
    "\n",
    "Como uma analogia, ele é parecido com um banco tradicional e específico para pessoas jurídicas (PJ). Não é feito para todas as pessoas, e possui algumas funcionalidades bem específicas. Não é necessariamente pior ou melhor do que os outros, mas possui aplicações e casos de uso específicos.\n",
    "\n",
    "### Semelhanças e Diferenças\n",
    "Elas possuem o mesmo objetivo: rastrear quem mudou o quê (e quando), e manter um histórico de versões. Isto ajuda muito na colaboração entre os membros de uma equipe e permitem que as alterações sejam revertidas se algo der errado (o que é muito, muito comum em TI).\n",
    "\n",
    "Dito isso, a principal diferença entre esses sistemas é se eles são centralizados ou distribuídos. No modelo centralizado (como o SVN e TFVC), existe um repositório central. Já em um modelo distribuído (como Git e Mercurial), cada desenvolvedor tem uma cópia completa do repositório. Como já mencionei antes, a esmagadora maioria dos desenvolvedores trabalham com Git no mercado de trabalho. Aliás, também é comum ensinarmos Git dentro dos cursos de TI nas Universidades."
   ]
  },
  {
   "cell_type": "markdown",
   "id": "49e6805c",
   "metadata": {},
   "source": [
    "## Boas práticas com Git 🤝\n",
    "Vamos supor que você esteja trabalhando com Git ativamente, ou que tenha interesse em trabalhar com isso e que não gostaria de passar vergonha. Agora, o que se recomenda (ou não) fazer?\n",
    "\n",
    "### Pull Requests\n",
    "\n",
    "### Terminei minhas alterações. E agora?"
   ]
  },
  {
   "cell_type": "markdown",
   "id": "c03bd31e",
   "metadata": {},
   "source": [
    "## Resumo sobre o Git em 100 segundos (em inglês)\n",
    "\n",
    "O que acha de ver um resumo rápido sobre o Git em 100 segundos? O vídeo abaixo é em inglês, e foi desenvolvido pelo canal Fireship. Se preferir, ative as legendas automáticas em português.\n",
    "\n",
    "<a href=\"https://www.youtube.com/watch?v=hwP7WQkmECE\" target=\"_blank\">\n",
    "    <figure>\n",
    "        <img alt=\"Git em 100 segundos\" src=\"https://img.youtube.com/vi/hwP7WQkmECE/0.jpg\" style=\"max-width:400px; display: block; margin: auto;\">\n",
    "    </figure>\n",
    "</a>"
   ]
  },
  {
   "cell_type": "markdown",
   "id": "c3e22cee-9d41-4f7c-b97e-461c17166772",
   "metadata": {},
   "source": [
    "## Referências bibliográficas\n",
    "\n"
   ]
  },
  {
   "cell_type": "code",
   "execution_count": null,
   "id": "be369800",
   "metadata": {},
   "outputs": [],
   "source": []
  }
 ],
 "metadata": {
  "kernelspec": {
   "display_name": "Python 3 (ipykernel)",
   "language": "python",
   "name": "python3"
  },
  "language_info": {
   "codemirror_mode": {
    "name": "ipython",
    "version": 3
   },
   "file_extension": ".py",
   "mimetype": "text/x-python",
   "name": "python",
   "nbconvert_exporter": "python",
   "pygments_lexer": "ipython3",
   "version": "3.9.12"
  }
 },
 "nbformat": 4,
 "nbformat_minor": 5
}
