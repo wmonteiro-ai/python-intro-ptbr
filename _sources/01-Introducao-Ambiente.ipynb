{
 "cells": [
  {
   "cell_type": "markdown",
   "id": "adca3370-18fb-41c2-8097-b662b14a6456",
   "metadata": {},
   "source": [
    "# Arrumando as coisas para começar a trabalhar com Python"
   ]
  },
  {
   "cell_type": "markdown",
   "id": "4da69cca-6053-4f0c-a351-34c5642d578c",
   "metadata": {},
   "source": [
    "## O que você saberá se você ler todo este capítulo?\n",
    "\n",
    "1. 🏆 Você irá testar logo de cara o seu primeiro algoritmo!\n",
    "2. Python é legal, mas não é perfeito. Não seja fanboy/fangirl de linguagem de programação!\n",
    "3. Muita gente em universidades e empresas usam Python porque é simples, rápido e tem uma comunidade grande.\n",
    "4. Como configurar o seu computador para começar a trabalhar com Python (mais especificamente, com o PyCharm), e o que é o PyCharm e uma IDE.\n",
    "5. Você irá testar diferentes funções/comandos em Python dentro do PyCharm."
   ]
  },
  {
   "cell_type": "markdown",
   "id": "3ac33613-6afb-49ff-acc0-d71124f2ebec",
   "metadata": {},
   "source": [
    "## Por que Python?\n",
    "\n",
    "Python é uma das linguagens de programação mais utilizadas pelas empresas atualmente, devido à sua simplicidade e facilidade de aprendizado por ser uma linguagem de alto nível. Além disso, a sua grande comunidade de desenvolvedores cria bibliotecas e frameworks para diversas finalidades, o que aumenta a sua versatilidade e funcionalidade. Ah, e empresas de diversos segmentos também usam Python para as mais diversas finalidades, desde análise de dados e inteligência artificial até a automação de tarefas e desenvolvimento web.\n",
    "\n",
    "> *Linguagem de alto nível*: é uma linguagem de programação que permite escrever códigos de forma mais próxima da linguagem humana.\n",
    "\n",
    "> *Bibliotecas*: é um conjunto de módulos ou arquivos que contêm funcionalidades prontas para serem usadas em programas de computador, permitindo aos desenvolvedores economizar tempo e esforço na criação de novas funcionalidades.\n",
    "\n",
    "A primeira imagem que a humanidade gerou de um buraco negro também foi gerada por cientistas usando Python. Olha só:"
   ]
  },
  {
   "cell_type": "markdown",
   "id": "4bc4de11-8ef0-4e11-9294-104918580312",
   "metadata": {},
   "source": [
    "<figure>\n",
    "    <img alt=\"Buraco negro M87\" src=\"https://numpy.org/images/content_images/cs/blackhole.jpg\" style=\"max-width:400px; display: block; margin: auto;\">\n",
    "    <figcaption style=\"text-align:center;\">Buraco negro M87. Créditos: <a href=\"https://www.jpl.nasa.gov/images/universe/20190410/blackhole20190410.jpg\">Event Horizon Telescope Collaboration</a></figcaption>\n",
    "</figure>"
   ]
  },
  {
   "cell_type": "markdown",
   "id": "8a4e52ab-891b-425c-a810-dcbd084f590c",
   "metadata": {},
   "source": [
    "Uma das empresas que mais utiliza Python é a Google, que a usa desde a análise de erros e testar coisas novas até a inteligência artificial. O Youtube (que também é da Google) também usa Python em grande parte de sua infraestrutura. Outra empresa que utiliza bastante Python é a NASA, que utiliza a linguagem para processamento de imagens, análise de dados e desenvolvimento de softwares de controle de missões espaciais.\n",
    "\n",
    "O uso de Python em empresas também se estende ao desenvolvimento web, com a utilização de frameworks como o Django e Flask, que permitem a criação de aplicações web com rapidez e eficiência. Empresas como Instagram, Spotify, Dropbox e Reddit utilizam Python em suas aplicações web, devido à sua facilidade de desenvolvimento e escalabilidade.\n",
    "\n",
    "Além disso, dentro do uso de inteligência artificial o Python é amplamente usado com bibliotecas como o NumPy, Pandas e Scikit-learn, que permitem a manipulação de grandes conjuntos de dados e a criação de modelos de machine learning com facilidade. É por isso que empresas como a Amazon, Netflix e Airbnb utilizam Python em seus processos de análise de dados e aprendizado de máquina (*machine learning*).\n",
    "\n",
    "Por fim, Python também é utilizado em automação de tarefas e scripts, permitindo a criação de rotinas automatizadas para diversos fins, desde backups até análise de logs. Empresas de diversos segmentos utilizam Python para automatizar tarefas rotineiras e melhorar a eficiência de seus processos."
   ]
  },
  {
   "cell_type": "markdown",
   "id": "1e846908-227e-4518-ac74-f29b5c6689a3",
   "metadata": {},
   "source": [
    "### Nas universidades\n",
    "\n",
    "Nas universidades, o Python tem sido amplamente utilizado para ensinar conceitos básicos de programação, como variáveis, estruturas de controle de fluxo, funções e estruturas de dados (veremos esses itens em breve). Da mesma forma que as empresas usam Python, as universidades também o usam dentro das disciplinas de ciência de dados, inteligência artificial e machine learning.\n",
    "\n",
    "O Python também é utilizado em outros setores como finanças, marketing e automação de processos. A sua facilidade de aprendizado e rapidez no desenvolvimento de soluções têm sido fatores determinantes para a sua escolha, além de possuir um vasto suporte da comunidade, permitindo a utilização de bibliotecas e módulos já desenvolvidos e testados por outros usuários.\n",
    "\n",
    "Mas é claro: não é legal ser fanboy/fangirl de linguagem de programação e colocar o Python como a \"melhor\" linguagem de programação do Universo. Longe disso: existem várias outras [como você pode ver neste ranking](https://www.tiobe.com/tiobe-index/). Ela também possui algumas desvantagens como, por exemplo:\n",
    "- Desempenho inferior a linguagens de baixo nível, como C e C++, o que pode ser um problema em alguns tipos de aplicações muito específicas que exigem alta performance;\n",
    "- Falta de compatibilidade com versões anteriores, o que pode tornar a migração de versões um processo complexo em alguns casos;\n",
    "- Limitações em relação à criação de interfaces gráficas (como jogos), já que a maioria das bibliotecas disponíveis não são nativas do Python."
   ]
  },
  {
   "cell_type": "markdown",
   "id": "e35b50d8-da3b-4334-b2c8-28bfd6476444",
   "metadata": {},
   "source": [
    "## Instalando (ou não) o Python\n",
    "\n",
    "Você pode usar o Word para escrever textos, o PowerPoint para fazer apresentações, a Steam para comprar jogos para o computador e o Chrome para navegar na internet. Mas, o que você usaria para trabalhar com algoritmos? Para isso poderíamos usar as IDEs.\n",
    "\n",
    "Uma IDE (*Integrated Development Environment*) é um ambiente de desenvolvimento integrado que reúne diversas ferramentas necessárias para a criação e edição de códigos de programação em um único lugar. Seria dentro da IDE que escreveríamos, testaríamos e analisaríamos o código.\n",
    "\n",
    "O Python possui várias IDEs disponíveis como, por exemplo, o PyCharm, Visual Studio, Visual Studio Code, e Spyder. Para desenvolver algoritmos em Python também seria possível desenvolver códigos direto do navegador com soluções como o [repl.it](https://repl.it) e [Google Colab](https://colab.research.google.com).\n",
    "\n",
    "A recomendação é a de que você instale o PyCharm para fazer os seus algoritmos. Se você está interessado em seguir em frente com o PyCharm e gostaria de saber como instalá-lo, recomendo acessar este [passo-a-passo que eu criei](https://medium.com/@wmonteiro/instalando-o-pycharm-684bbd52bae9) especificamente para isso.\n",
    "\n",
    "A partir de agora eu assumirei que você já está com o PyCharm (ou alguma outra alternativa) já instalada no seu computador. Se tudo deu certo, você terá uma janela com essa carinha:"
   ]
  },
  {
   "cell_type": "markdown",
   "id": "04df1087-5e58-4518-bc54-765290f5e1e3",
   "metadata": {},
   "source": [
    "<figure>\n",
    "    <img alt=\"Tela inicial do PyCharm\" src=\"pycharm_new_project.png\" style=\"max-width:600px; display: block; margin: auto;\">\n",
    "    <figcaption style=\"text-align:center;\">Tela inicial do PyCharm após a criação de um projeto</figcaption>\n",
    "</figure>"
   ]
  },
  {
   "cell_type": "markdown",
   "id": "af734995-64bc-41b9-a5df-c6fee6ff782d",
   "metadata": {},
   "source": [
    "(content:environment:sourcecodefile)=\n",
    "## Começando com código: colocando a mão na massa\n",
    "\n",
    "Sejamos sinceros: o legal mesmo é colocar a mão na massa logo de cara, não é mesmo? O que acha de um algoritmo em Python que gera uma tabela de um campeonato de Counter-Strike? Veja o código abaixo:"
   ]
  },
  {
   "cell_type": "markdown",
   "id": "a29665ea-7b02-4329-b16e-c1a05c465d0b",
   "metadata": {},
   "source": [
    "<figure>\n",
    "    <img alt=\"Streamer da Twitch.tv 'Gaules'\" src=\"gau.jpg\" style=\"max-width:400px; display: block; margin: auto;\">\n",
    "    <figcaption style=\"text-align:center;\"><em>Começççççççççççou!</em></figcaption>\n",
    "</figure>"
   ]
  },
  {
   "cell_type": "code",
   "execution_count": 4,
   "id": "cb51d8a3-fb88-4f3f-b229-f452de9558e0",
   "metadata": {},
   "outputs": [
    {
     "name": "stdout",
     "output_type": "stream",
     "text": [
      "Tabela de classificação:\n",
      "Time            Pontos     Vitórias   Jogos     \n",
      "Astralis        9          3          5         \n",
      "Na`Vi           6          2          4         \n",
      "G2              6          2          3         \n",
      "Liquid          6          2          4         \n",
      "FURIA           6          2          4         \n",
      "Vitality        3          1          4         \n"
     ]
    }
   ],
   "source": [
    "# Lista de times\n",
    "times = ['Astralis', 'Na`Vi', 'G2', 'Vitality', 'Liquid', 'FURIA']\n",
    "\n",
    "# Lista de resultados [time1, time2, resultado_time1, resultado_time2]\n",
    "resultados = [\n",
    "    ['Astralis', 'G2', 16, 10],\n",
    "    ['Na`Vi', 'Vitality', 16, 8],\n",
    "    ['Liquid', 'FURIA', 16, 14],\n",
    "    ['Astralis', 'Liquid', 16, 13],\n",
    "    ['G2', 'FURIA', 16, 12],\n",
    "    ['Vitality', 'Astralis', 16, 14],\n",
    "    ['Na`Vi', 'Liquid', 16, 11],\n",
    "    ['FURIA', 'Vitality', 16, 13],\n",
    "    ['Astralis', 'Na`Vi', 16, 12],\n",
    "    ['G2', 'Vitality', 16, 14],\n",
    "    ['Liquid', 'Astralis', 16, 12],\n",
    "    ['FURIA', 'Na`Vi', 16, 14],\n",
    "]\n",
    "\n",
    "# Dicionário para armazenar a pontuação de cada time\n",
    "pontuacao = {time: {'pontos': 0, 'jogos': 0, 'vitorias': 0} for time in times}\n",
    "\n",
    "# Loop para atualizar a pontuação de cada time\n",
    "for jogo in resultados:\n",
    "    time1, time2, resultado1, resultado2 = jogo\n",
    "    if resultado1 > resultado2:\n",
    "        pontuacao[time1]['pontos'] += 3\n",
    "        pontuacao[time1]['vitorias'] += 1\n",
    "    elif resultado1 < resultado2:\n",
    "        pontuacao[time2]['pontos'] += 3\n",
    "        pontuacao[time2]['vitorias'] += 1\n",
    "    else:\n",
    "        pontuacao[time1]['pontos'] += 1\n",
    "        pontuacao[time2]['pontos'] += 1\n",
    "    pontuacao[time1]['jogos'] += 1\n",
    "    pontuacao[time2]['jogos'] += 1\n",
    "\n",
    "# Classificar os times por pontos e exibir a tabela\n",
    "classificacao = sorted(pontuacao.items(), key=lambda x: (-x[1]['pontos'], -x[1]['vitorias']))\n",
    "print('Tabela de classificação:')\n",
    "print('{:<15} {:<10} {:<10} {:<10}'.format('Time', 'Pontos', 'Vitórias', 'Jogos'))\n",
    "for time, pontos in classificacao:\n",
    "    print('{:<15} {:<10} {:<10} {:<10}'.format(time, pontos['pontos'], pontos['vitorias'], pontos['jogos']))"
   ]
  },
  {
   "cell_type": "markdown",
   "id": "aea3e2dd-95d6-4bdb-90f0-39fe32208a11",
   "metadata": {},
   "source": [
    "Viu o resultado acima? Ele gerou uma tabela toda bonita contendo os times já ordenados pela pontuação. Isso poderia servir para qualquer outro campeonato: futebol, sinuca ou qualquer outra coisa que poderia entrar neste formato."
   ]
  },
  {
   "cell_type": "markdown",
   "id": "7039709e-006c-4089-9dc8-9c82c61f5710",
   "metadata": {},
   "source": [
    "Quer testar isso? Volte lá no PyCharm e apague todo o conteúdo que está naquela aba `main.py`. Este arquivo `main.py` possui o seu código-fonte, e é isso que iremos substituir.\n",
    "\n",
    "> *Código-fonte*: É o arquivo que contém o código na sua forma original, antes de ser compilado ou interpretado, e é através dele que os desenvolvedores podem criar, editar e aprimorar os programas.\n",
    "\n",
    "Você deverá ficar com algo assim:"
   ]
  },
  {
   "cell_type": "markdown",
   "id": "4bc21865-6158-4881-81a7-5e10cf658667",
   "metadata": {},
   "source": [
    "<figure>\n",
    "    <img alt=\"Tela inicial do PyCharm com o código-fonte de exemplo removido\" src=\"pycharm_blank.png\" style=\"max-width:600px; display: block; margin: auto;\">\n",
    "    <figcaption style=\"text-align:center;\">Tela inicial do PyCharm após apagar o conteúdo do \"main.py\".</figcaption>\n",
    "</figure>"
   ]
  },
  {
   "cell_type": "markdown",
   "id": "78bc1559-1f12-46cc-8c12-5fb287441895",
   "metadata": {},
   "source": [
    "Agora, vamos copiar e colar o código acima dentro desta tela. Você deve ficar com algo assim:"
   ]
  },
  {
   "cell_type": "markdown",
   "id": "481f6359-4bc9-435f-8706-fec813931502",
   "metadata": {},
   "source": [
    "<figure>\n",
    "    <img alt=\"Tela inicial do PyCharm com o nosso código-fonte adicionado\" src=\"pycharm_pasted.png\" style=\"max-width:600px; display: block; margin: auto;\">\n",
    "    <figcaption style=\"text-align:center;\">Tela inicial do PyCharm após inserir o código da tabela do campeonato dentro do \"main.py\".</figcaption>\n",
    "</figure>"
   ]
  },
  {
   "cell_type": "markdown",
   "id": "7d2112f7-6dbf-4811-bc0e-207cafe6d59e",
   "metadata": {},
   "source": [
    "Agora é hora de rodar (executar) o código. Você pode fazer isso de algumas formas:\n",
    "1. Apertar `Shift` e `F10` no seu teclado;\n",
    "2. Clicando no botão de `Run` (triângulo verde no canto superior direito da tela, destacado abaixo);\n",
    "3. No menu superior, clicando em `Run > Run '$ARQUIVO'` (neste caso, seria `Run > Run 'main'`)."
   ]
  },
  {
   "cell_type": "markdown",
   "id": "041d146f-2f1f-42ce-96d2-715fd5ca58be",
   "metadata": {},
   "source": [
    "<figure>\n",
    "    <img alt=\"Botão para rodar o código\" src=\"pycharm_run.png\" style=\"max-width:600px; display: block; margin: auto;\">\n",
    "    <figcaption style=\"text-align:center;\">Botão para rodar (executar) o código destacado em roxo.</figcaption>\n",
    "</figure>"
   ]
  },
  {
   "cell_type": "markdown",
   "id": "be87b192-db7f-474a-8bfe-64334f2a78cb",
   "metadata": {},
   "source": [
    "Com isso, o seu código deve executar e os resultados aparecerão na parte inferior do PyCharm. Veja a imagem abaixo:"
   ]
  },
  {
   "cell_type": "markdown",
   "id": "15858bfb-1d4d-497b-82eb-af0046e5d8c0",
   "metadata": {},
   "source": [
    "<figure>\n",
    "    <img alt=\"Resultado da execução do algoritmo mostrando a tabela de classificação com 6 equipes e as colunas pontos, vitórias e jogos.\" src=\"pycharm_results.png\" style=\"max-width:600px; display: block; margin: auto;\">\n",
    "    <figcaption style=\"text-align:center;\">Resultado da execução do algoritmo, em roxo.</figcaption>\n",
    "</figure>"
   ]
  },
  {
   "cell_type": "markdown",
   "id": "a27bbac5-7196-4c2c-9eba-97c6c9904396",
   "metadata": {},
   "source": [
    "Você também deve ter notado a mensagem final `Process finished with exit code 0`. Isto significa que o código rodou sem problemas. Agora, o que aconteceria se você digitasse *qualquer* outra coisa no meio do arquivo? Por exemplo: na linha 24, troque o texto `resultados` por `abc`. Deve ficar assim:"
   ]
  },
  {
   "cell_type": "markdown",
   "id": "e59ce413-5102-4b1c-af47-d5ab28f0de2b",
   "metadata": {},
   "source": [
    "<figure>\n",
    "    <img alt=\"Linha 24 do algoritmo editada. O texto 'resultados' foi substituído pelo texto 'abc'. Há um realce em vermelho sob o texto 'abc'.\" src=\"pycharm_typo.png\" style=\"max-width:600px; display: block; margin: auto;\">\n",
    "    <figcaption style=\"text-align:center;\">Trocando o texto \"resultados\" por \"abc\" na linha 24.</figcaption>\n",
    "</figure>"
   ]
  },
  {
   "cell_type": "markdown",
   "id": "f47b3952-1405-4365-8685-baa3f91df734",
   "metadata": {},
   "source": [
    "Notou uma linha em ziguezague (ou uma \"cobrinha\") embaixo do `abc`? O PyCharm ajuda a detectar erros para te mostrar com antecedência. Se você passar o mouse em cima do `abc` verá que aparecerá um texto com a mensagem `Unresolved reference 'abc'`.\n",
    "\n",
    "Isto, traduzindo para o português, significa `Referência 'abc' não-resolvida`. Reescrevendo de forma mais clara: `Você tá querendo usar um negócio chamado 'abc' que não existe em nenhum outro lugar no código. Tá certo isso?`. O PyCharm está avisando que vai dar erro isso aí. O que acontece se ignorarmos este erro e tentarmos rodar o código mesmo assim (seja clicando no triângulo verde, indo no menu `Run` ou apertando `Shift` + `F10`)? Olha só:"
   ]
  },
  {
   "cell_type": "markdown",
   "id": "76f60e8d-c7fd-4efa-829f-b450bd9e06d5",
   "metadata": {},
   "source": [
    "<figure>\n",
    "    <img alt=\"Mensagem de erro com o texto 'NameError: name abc is not defined'.\" src=\"pycharm_nameerror.png\" style=\"max-width:600px; display: block; margin: auto;\">\n",
    "    <figcaption style=\"text-align:center;\">Deu erro. Tá em vermelho, e mensagens em vermelho não são coisas boas, né?</figcaption>\n",
    "</figure>"
   ]
  },
  {
   "cell_type": "markdown",
   "id": "bac861a4-f835-4143-9768-92490075c2ca",
   "metadata": {},
   "source": [
    "Parece confuso, mas não é. O Python é bem amigável quanto às mensagens de erro. Vamos traduzir por partes:\n",
    "1. `Traceback (most recent call last):` *\"Viu, esse aqui foi o último erro que achei e que fez o código parar de funcionar, ó:\"*\n",
    "2. `File \"$ARQUIVO\", line $LINHA, in <module>`: *\"O erro aconteceu aqui ó, nesse \\$ARQUIVO (no nosso caso, no `main.py`) e nessa \\$LINHA (no nosso caso, na linha 24), entendeu?\"*\n",
    "3. `for jogo in abc:`: *\"Tá com preguiça de abrir aquela linha 24 para ver o que tem lá? Não tem problema: a linha 24 tinha isso aqui ó.\"*\n",
    "4. `NameError: name 'abc' is not defined`: *\"O erro que teve aqui foi um erro de nome. No caso, não achei em lugar nenhum alguém com o nome de 'abc'. O que é isso? O que eu deveria fazer com isso? Me ajuda aí.\"*\n",
    "\n",
    "Diferentes erros terão diferentes tratamentos. Ou seja, não será sempre que aparecerá um `NameError`, mas as explicações farão sentido para você ao longo do caminho. Para te ajudar, também [criei uma seção com os tratamentos mais comuns aos erros de código para você](content:commonerrors)."
   ]
  },
  {
   "cell_type": "markdown",
   "id": "1b5a89b4-b8bd-41ac-8dc7-6424434e7c86",
   "metadata": {},
   "source": [
    "### Arquivos do Python (.py) e o Python Console\n",
    "Você também poderá usar o PyCharm para usar o console do Python. Este console é bem útil para rodar de comandos e ver os resultados em tempo real. Além disso, o console é uma ferramenta de depuração (*debug*) muito útil, pois permite que o desenvolvedor teste comandos e veja imediatamente se eles estão funcionando como esperado.\n",
    "\n",
    "Assim, imagine que o console do Python pode te ajudar por ser uma maneira fácil e rápida de testar ideias e verificar o funcionamento de funções e scripts. Agora, qual é a diferença entre usar aquele arquivo (o `main.py` no exemplo anterior) e usar o console?\n",
    "\n",
    "Enquanto que o arquivo .py permite que você salve o código em um arquivo e o execute posteriormente quantas vezes quiser, o console do Python executa o código em tempo real e apenas permite que você execute o código que foi digitado enquanto o console está aberto. Em outras palavras, o arquivo .py permite que você escreva seu código em um ambiente mais estruturado, **salve-o e execute-o quantas vezes quiser**, enquanto o console do Python é mais útil para **testar pequenos trechos de código** ou para interagir com o código em tempo real.\n",
    "\n",
    "Fazendo uma comparação com o mundo real, podemos comparar o arquivo .py com uma receita de bolo escrita em um caderno de receitas. Você pode escrever a receita em um caderno, salvar e acessar novamente sempre que quiser fazer o bolo. Por outro lado, o console do Python seria como estar em uma cozinha, onde você pode testar pequenas partes da receita para ver como ficaria o sabor final do bolo, mas não seria apropriado para escrever e armazenar a receita completa."
   ]
  },
  {
   "cell_type": "markdown",
   "id": "297cad29-1968-4483-aa9e-003905cfd7cb",
   "metadata": {},
   "source": [
    "<figure>\n",
    "    <img alt=\"Botão 'Python Console' realçado dentro do PyCharm\" src=\"pycharm_console.png\" style=\"max-width:600px; display: block; margin: auto;\">\n",
    "    <figcaption style=\"text-align:center;\">Observe o botão \"Python Console\" no canto inferior do PyCharm.</figcaption>\n",
    "</figure>"
   ]
  },
  {
   "cell_type": "markdown",
   "id": "8d5c11b5-d791-49e4-b39e-c3f30c17d2fa",
   "metadata": {},
   "source": [
    "Quer testar o Python Console? Digite o comando abaixo dentro do console e logo após os `>>>`:\n",
    "    \n",
    "```python\n",
    "print(\"Alô alô, testando.\")\n",
    "```\n",
    "\n",
    "Depois de digitar, aperte `Enter`. Deverá aparecer a mensagem `Alô alô, testando.` logo abaixo no console. Deve aparecer algo desse jeito:"
   ]
  },
  {
   "cell_type": "markdown",
   "id": "32e17db0-2120-477d-ba85-8f3ad4bbd32a",
   "metadata": {},
   "source": [
    "<figure>\n",
    "    <img alt=\"Comando print('Alô alô, testando.') aparecendo no Python Console.\" src=\"pycharm_print_input.png\" style=\"max-width:600px; display: block; margin: auto;\">\n",
    "    <figcaption style=\"text-align:center;\">O seu comando digitado deve aparecer mais ou menos desse jeito <em>antes</em> de apertar Enter.</figcaption>\n",
    "</figure>\n",
    "\n",
    "<figure>\n",
    "    <img alt=\"Resultado da função print('Alô alô, testando.') no Python Console. A frase 'Alô alô, testando.' apareceu na tela.\" src=\"pycharm_print_output.png\" style=\"max-width:600px; display: block; margin: auto;\">\n",
    "    <figcaption style=\"text-align:center;\">Você deve ter este mesmo resultado na sua tela depois de apertar Enter.</figcaption>\n",
    "</figure>"
   ]
  },
  {
   "cell_type": "markdown",
   "id": "5acad8d8-6b72-4fd0-a059-31dbd331458e",
   "metadata": {},
   "source": [
    "A função `print` é responsável por mostrar uma mensagem na tela. A forma de escrever é sempre a mesma: o texto `print`, seguido pela abertura de parênteses e, dentro dos parênteses e circundados por aspas simples ou duplas, o texto que você quer mostrar. Os exemplos abaixo são permitidos:\n",
    "```python\n",
    "print(\"Alô alô, testando.\")\n",
    "print('Alô alô, testando.')\n",
    "```\n",
    "\n",
    "Assim não seria uma boa prática de formatação/organização:\n",
    "```python\n",
    "print (\"Alô alô, testando.\")  # veja o espaço entre `print` e `(`\n",
    "print( \"Alô alô, testando.\" ) # veja o espaço antes e depois do fechamento das aspas\n",
    "```\n",
    "\n",
    "E isso aqui daria um erro, já que você começaria de um jeito (aspas simples) e terminaria de outro (aspas duplas):\n",
    "```python\n",
    "print('Alô alô, testando.\")   \n",
    "```"
   ]
  },
  {
   "cell_type": "markdown",
   "id": "caf3618d-ac5e-4cf6-b6eb-c25a37ff7e71",
   "metadata": {},
   "source": [
    "Quer testar mais exemplos? Digite os comandos abaixo, sempre apertando `Enter` no final de cada comando. Fique tranquilo se alguns desses conceitos não estiverem muito claros: veremos com mais calma adiante.\n",
    "\n",
    "- `print(\"Olá de novo!\")`: exibe uma outra mensagem na tela. No caso, *\"Olá de novo!\"*.\n",
    "- `5 + 1`: soma cinco mais um e mostra o resultado (`6`) na tela.\n",
    "- `\"Olá\" + \" \" + \"de novo!\"`: concatena os textos (strings) *\"Olá\"* e *\"de novo!\"* com um espaço entre eles e exibe o resultado na tela.\n",
    "- `len(\"Python\")`: retorna o comprimento (*length*, ou total de caracteres) da string \"Python\".\n",
    "- `type(5)`: retorna o tipo de dado do número 5. Como 5 é um número inteiro (*integer*), aparecerá `int` na tela.\n",
    "- `type(\"Python\")`: retorna o tipo de dado do valor \"Python\". Como ele é um texto (*string*), aparecerá `str` na tela.\n",
    "- `max([1, 7, 2, 3])`: retorna o maior número da lista [1, 7, 2, 3]. No caso, `7`.\n",
    "- `min([1, 7, 2, 3])`: retorna o menor número da lista [1, 7, 2, 3]. No caso, `1`.\n",
    "- `sum([1, 7, 2, 3])`: retorna a soma dos números da lista [1, 7, 2, 3]. No caso, `13`.\n",
    "- `round(3.14159265359, 2)`: arredonda o número pi para 2 casas decimais. No caso, `3.14`.\n",
    "- `bool(1)`: retorna `True`, pois 1 representa o valor `verdadeiro` em Python quando estamos tratando de operações binárias (isto é, verdadeiro/falso, ligado/desligado).\n",
    "- `bool(0)`: retorna `False`, pois 0 representa o valor `falso` em Python.\n",
    "- `str(123)`: converte o número 123 para uma string. No caso, resultará em `\"123\"` (observe as aspas que explicitam que trata-se de um texto, e não de um número).\n",
    "- `'Olá de novo!'.split()`: divide a string em uma lista de palavras toda vez que um espaço for encontrado. No caso, retornará `['Olá', 'de', 'novo!']`.\n",
    "- `\"wellington\".capitalize()`: retorna a string `\"Wellington\"`. Observe que a primeira letra está em maiúscula.\n",
    "- `abs(-5)`: retorna o valor absoluto de -5. No caso, `5`.\n",
    "- `\" São José dos Pinhais \".strip()`: remove os espaços em branco no início e no fim da string, mas vai ignorar os espaços entre as palavras. No caso, retornará `São José dos Pinhais`.\n",
    "- `\"Olá de novo!\".replace(\"novo\", \"volta\")`: substitui a palavra `\"novo\"` por `\"volta\"` na string.\n",
    "- `list(range(10))`: cria uma lista de números inteiros de 0 até 10, mas sem considerar o 10. Ou seja: `[0, 1, 2, 3, 4, 5, 6, 7, 8, 9]`."
   ]
  },
  {
   "cell_type": "markdown",
   "id": "b52c31da-5368-4d59-aed9-e2518615afed",
   "metadata": {},
   "source": [
    "Neste livro você aprenderá a fazer algoritmos como aquele da tabela de classificação. Por outro lado, este livro não é um passo-a-passo somente: se assim fosse, você só seria capaz de replicar os passos que eu estaria lhe falando para executar.\n",
    "\n",
    "Veja só: um profissional de TI recebe o seu salário para resolver problemas e não para apertar teclas no computador para gerar código porque, além de ter habilidades técnicas em sua área de atuação, ele também possui habilidades analíticas e de resolução de problemas que o capacitam a encontrar soluções eficazes e eficientes para os desafios que surgem no trabalho. Isso pode envolver a criação de novos algoritmos, adaptação de algoritmos existentes, integração de sistemas e outras atividades que vão além do simples seguimento de tutoriais de código.\n",
    "\n",
    "Além disso, muitos dos desafios enfrentados na área de TI não têm soluções prontas e, portanto, exigem que o profissional utilize sua experiência e criatividade para encontrar soluções inovadoras e personalizadas para os problemas em questão. Isso significa que o profissional de TI deve ser capaz de analisar e entender os problemas, desenvolver hipóteses, testar soluções e avaliar resultados, muitas vezes em um ambiente de constante mudança e evolução.\n",
    "\n",
    "Portanto, ainda que seguir tutoriais pode ser uma forma útil de aprender novas habilidades e conceitos na área de TI, um desenvolvedor pode ser valorizado principalmente por sua capacidade de resolver problemas de maneira eficaz e inovadora, usando suas habilidades técnicas, analíticas e de pensamento crítico. Por isso, é importante você entender um pouco mais sobre algoritmo antes de voltarmos ao Python. E é para isto que o próximo capítulo servirá. Vamos lá?"
   ]
  },
  {
   "cell_type": "markdown",
   "id": "c3e22cee-9d41-4f7c-b97e-461c17166772",
   "metadata": {},
   "source": [
    "## Referências bibliográficas\n",
    "\n",
    "- MARTIN, R. C. Clean Code: A Handbook of Agile Software Craftsmanship. Prentice Hall, 2009.\n",
    "- MCKINNEY, W. Python for data analysis: Data wrangling with Pandas, NumPy, and IPython. O'Reilly Media, 2012.\n",
    "- REITZ, K. et al. Requests: HTTP for Humans™. 2021. Disponível em: https://docs.python-requests.org/en/latest/. Acesso em: 01 mar. 2023.\n",
    "- REYNOLDS, J. 8 World-Class Software Companies That Use Python?. Disponível em: https://realpython.com/world-class-companies-using-python/. Acesso em: 03 mar. 2023.\n",
    "- RICHARDSON, L. et al. Beautiful Soup Documentation. 2021. Disponível em: https://www.crummy.com/software/BeautifulSoup/bs4/doc/. Acesso em: 01 mar. 2023.\n",
    "- RAYOME, A. Why Python is so popular with developers: 3 reasons the language has exploded. TechRepublic, 2015. Disponível em: https://www.techrepublic.com/article/why-python-is-so-popular-with-developers-3-reasons-the-language-has-exploded/. Acesso em: 03 mar. 2023.\n",
    "- THOMAS, D.; HUNT, A. The pragmatic programmer. Addison-Wesley Professional, 2019.\n",
    "- VAN ROSSUM, G. Computer Programming for Everybody. Disponível em: https://www.python.org/doc/essays/cp4e. Acesso em: 02 mar. 2023."
   ]
  },
  {
   "cell_type": "code",
   "execution_count": null,
   "id": "961467ed-5d05-4b88-a821-3e4a1d081072",
   "metadata": {},
   "outputs": [],
   "source": []
  }
 ],
 "metadata": {
  "kernelspec": {
   "display_name": "Python 3 (ipykernel)",
   "language": "python",
   "name": "python3"
  },
  "language_info": {
   "codemirror_mode": {
    "name": "ipython",
    "version": 3
   },
   "file_extension": ".py",
   "mimetype": "text/x-python",
   "name": "python",
   "nbconvert_exporter": "python",
   "pygments_lexer": "ipython3",
   "version": "3.9.12"
  }
 },
 "nbformat": 4,
 "nbformat_minor": 5
}
