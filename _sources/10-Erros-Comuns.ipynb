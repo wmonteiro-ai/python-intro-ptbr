{
 "cells": [
  {
   "cell_type": "markdown",
   "id": "82a66505-fcd8-4b96-9b7b-30ff2bdc934d",
   "metadata": {},
   "source": [
    "(content:commonerrors)=\n",
    "# Erros/exceções em Python"
   ]
  },
  {
   "cell_type": "markdown",
   "id": "b44c74c1-3db1-438f-964f-05961245ad58",
   "metadata": {},
   "source": [
    "## O que você saberá se você ler todo este capítulo?\n",
    "\n",
    "A ideia não é ler todo ele, mas que possa servir como uma consulta. Assim, a ideia é você encontrar o erro que está tendo, entender o *motivo* dele aparecer e como resolver."
   ]
  },
  {
   "cell_type": "markdown",
   "id": "15d55a22-d8eb-4378-a6d8-6aa2ab23f19a",
   "metadata": {},
   "source": [
    "## Grupos de exceções mais comuns\n",
    "\n",
    "Os tipos de exceções mais comuns em Python incluem:\n",
    "\n",
    "- `IndexError`: quando se tenta acessar um índice inexistente em uma lista ou tupla.\n",
    "- `IOError`: quando ocorre um erro durante a leitura ou gravação de um arquivo.\n",
    "- `KeyError`: quando se tenta acessar uma chave inexistente em um dicionário.\n",
    "- `NameError`: quando uma variável é usada antes de ser definida.\n",
    "- `TypeError`: quando ocorre uma operação incompatível com um tipo de dado específico.\n",
    "- `ValueError`: quando uma função recebe um argumento do tipo correto, mas com um valor inesperado.\n",
    "- `ZeroDivisionError`: quando se tenta dividir um número por zero."
   ]
  },
  {
   "cell_type": "markdown",
   "id": "aac24272-4792-4dbe-93b4-e6158b11b5eb",
   "metadata": {},
   "source": [
    "### IndexError\n",
    "\n",
    "> Analogia: uma receita de bolo como uma lista de instruções a serem seguidas. Se tentarmos acessar uma instrução que não existe na lista, teremos um erro semelhante. Por exemplo, se a receita tem apenas 10 etapas numeradas de 1 a 10, e tentarmos seguir a instrução 11, teremos um erro.\n",
    "\n",
    "Para evitar esses erros, verifique se o índice está dentro do intervalo permitido antes de tentar acessar o elemento correspondente. É possível usar a função len() para obter o tamanho da lista ou sequência e a declaração if para verificar se o índice está dentro dos limites."
   ]
  },
  {
   "cell_type": "markdown",
   "id": "bbe23e6e-a6fa-4e6d-bb1c-749b69d79220",
   "metadata": {},
   "source": [
    "### IOError\n",
    "\n",
    "- `FileNotFoundError`\n",
    "\n",
    "> Analogia com uma receita de bolo: a receita pede ovos. Você abre a geladeira e descobre que o ovo acabou.\n",
    "\n",
    "Ocorre quando o Python tenta acessar um arquivo que não existe no sistema. Veja se o arquivo que você está tentando abrir existe e se você está tentando abrir no lugar correto."
   ]
  },
  {
   "cell_type": "markdown",
   "id": "55b98133-0b14-4852-9de1-d6eee034e2b8",
   "metadata": {},
   "source": [
    "### KeyError\n",
    "\n",
    "> Uma analogia com receita de bolo para o erro \"KeyError\" seria tentar encontrar uma receita em um livro de culinária usando uma página inexistente como referência. Por exemplo, imagine que um livro de culinária tenha receitas em suas páginas de 1 a 50, mas você tenta encontrar uma receita na página 60. Como essa página não existe, o livro não será capaz de encontrar a receita que você está procurando. Aqui é a mesma coisa.\n",
    "\n",
    "Acontece quando você tenta acessar uma chave que não existe em um dicionário. Um exemplo de erro do tipo KeyError em Python é quando tentamos acessar uma chave que não existe em um dicionário. Por exemplo, se tivermos um dicionário com as chaves \"nome\", \"idade\" e \"sexo\", e tentarmos acessar a chave \"endereço\", teremos um erro do tipo KeyError.\n",
    "\n",
    "```python\n",
    "pessoa = {\"nome\": \"João\", \"idade\": 25, \"sexo\": \"masculino\"}\n",
    "endereco = pessoa[\"endereco\"]\n",
    "```\n",
    "\n",
    "Aqui, apareceria uma mensagem de erro com o conteúdo `KeyError: 'endereco'`. Da mesma forma que o `endereco` não existe naquele dicionário chamado `pessoa`, veja se o que você está tentando acessar realmente existe no dicionário antes de prosseguir."
   ]
  },
  {
   "cell_type": "markdown",
   "id": "60e6e54c-28cd-42b3-a4a3-bed3ef1f0222",
   "metadata": {},
   "source": [
    "### NameError\n",
    "Acontece quando o Python não encontrou a definição/onde está aquela variável ou função que você deseja usar.\n",
    "\n",
    "- `NameError: name 'nome_da_variavel' is not defined`\n",
    "- `NameError: name 'nome_da_funcao' is not defined`\n",
    "\n",
    "> Analogamente, podemos pensar em uma receita de bolo onde o cozinheiro precisa utilizar um ingrediente que não foi listado na receita. Nesse caso, ele precisaria verificar se está utilizando todos os ingredientes necessários, se leu direito a receita, e adicionar o ingrediente que está faltando antes de prosseguir com a mesma.\n",
    "\n",
    "Veja se você não digitou incorretamente o nome de uma variável ou função, ou se não está as usando no momento/local correto do código."
   ]
  },
  {
   "cell_type": "markdown",
   "id": "9a0e9723-5e7b-46d0-a664-4b12d29c2d13",
   "metadata": {
    "jp-MarkdownHeadingCollapsed": true,
    "tags": []
   },
   "source": [
    "### TypeError\n",
    "O tipo TypeError ocorre quando uma operação ou função é aplicada a um tipo de objeto incorreto.\n",
    "\n",
    "- `TypeError: unsupported operand type(s) for +: 'int' and 'str'`\n",
    "\n",
    "> Usando uma analogia com uma receita de bolo, imagine que você está seguindo uma receita de bolo e, em determinado momento, a receita pede para que você misture 2 colheres de açúcar com 1 colher de farinha de trigo. Você sabe que açúcar e farinha de trigo são ingredientes diferentes e que não podem ser misturados diretamente, assim como inteiros e strings em Python não podem ser concatenados diretamente usando o operador \"+\".\n",
    "\n",
    "Ocorre quando você tenta somar um número a uma string (texto). Para resolver esse erro, é necessário converter o número inteiro em uma string antes de somá-lo à outra string. Isso pode ser feito usando a função \"str()\", que converte um objeto em sua representação em string.\n",
    "\n",
    "Por exemplo, se você quiser somar um número inteiro \"x\" à string \"olá\", você deve fazer:\n",
    "\n",
    "```python\n",
    "x = 42\n",
    "s = \"olá\"\n",
    "result = s + str(x)\n",
    "print(result)\n",
    "```\n",
    "\n",
    "Isso irá converter o número inteiro em uma string e concatená-lo à string `olá`, produzindo a saída `olá42`.\n",
    "\n",
    "Um erro assim também pode ocorrer ao tentar somar uma string a uma lista, por exemplo. Nesse caso, a solução é converter a string em uma lista antes de tentar somá-la à outra lista.\n",
    "\n",
    "- `TypeError: 'NoneType' object is not iterable`\n",
    "\n",
    "> Usando uma analogia: imagine que estamos seguindo uma receita para fazer um bolo e uma das etapas é misturar os ingredientes secos em uma tigela. Porém, se não tivermos esses ingredientes disponíveis ou se misturarmos outros ingredientes que não sejam os corretos, não poderemos realizar essa etapa. Em outras palavras, a tigela estará vazia ou com ingredientes incompatíveis e, portanto, não será possível misturá-los para obter a massa do bolo.\n",
    "\n",
    "Ocorre quando tentamos iterar (percorrer/fazer um loop/usar um `for` ou um `while`) sobre uma variável que não tem nada dentro dela. Para resolver esse erro, é preciso verificar se o objeto em questão não é `None` (vazio) antes de tentar iterar sobre ele.\n",
    "\n",
    "Uma das formas de fazer isso é utilizando uma estrutura de condição (`if`) para ver se o objeto é diferente de `None` antes de iterar sobre ele. Por exemplo:\n",
    "\n",
    "```python\n",
    "lista = None\n",
    "\n",
    "if lista is not None:\n",
    "    for item in lista:\n",
    "        print(item)\n",
    "else:\n",
    "    print(\"A lista está vazia\")\n",
    "```\n",
    "\n",
    "Nesse exemplo, antes de tentar iterar sobre a lista, verificamos se ela é diferente de `None`. Se for diferente, podemos iterar normalmente. Caso contrário, exibimos uma mensagem indicando que a lista é vazia.\n",
    "\n",
    "- `TypeError: 'int' object is not callable`\n",
    "\n",
    "> Usando uma analogia com uma receita de bolo, é como se você estivesse seguindo uma receita que pede para misturar os ingredientes secos em uma tigela e depois adicionar o leite e o óleo vegetal, misturando tudo até formar uma massa homogênea. Porém, ao invés de colocar o leite, você acidentalmente adiciona um copo de água, resultando em uma massa muito líquida e difícil de trabalhar. Nesse exemplo, o leite seria o objeto correto que você deveria ter adicionado, enquanto a água seria o objeto `int` que não é `callable`, ou seja, não pode ser chamado para executar uma ação naquele contexto específico. Assim como a receita de bolo não funciona corretamente com a adição de um ingrediente errado, o código em Python também pode gerar erros quando o tipo de objeto utilizado não é compatível com a operação que está sendo realizada.\n",
    "\n",
    "Este erro acontece quando você tenta usar uma variável como sendo uma função. Para corrigir esse erro, basta verificar se a sua variável é realmente uma função antes de tentar chamá-la.\n",
    "\n",
    "- `TypeError: 'str' object does not support item assignment`\n",
    "\n",
    "> Usando uma analogia com uma receita de bolo, seria como tentar substituir um ingrediente específico por outro em uma receita que já foi preparada e misturada. Uma solução seria criar uma nova receita com o ingrediente correto desde o início ou remover o ingrediente errado e acrescentar o ingrediente correto separadamente.\n",
    "\n",
    "Este erro acontece quando você tenta mudar o valor de um caractere específico de uma string em Python, o que não é permitido porque as strings são objetos imutáveis (ou seja: você não pode modificar ela depois que ela é criada).\n",
    "\n",
    "- `TypeError: 'tuple' object does not support item assignment`\n",
    "\n",
    "> Podemos pensar na tupla como uma receita de bolo em que os ingredientes são listados na ordem correta e não podem ser modificados. Se quisermos adicionar um ingrediente ou alterar a quantidade de um ingrediente, não podemos simplesmente alterar a receita original. Precisamos criar uma nova receita ou escrever as mudanças em uma cópia da receita original.\n",
    "\n",
    "Ocorre quando tentamos atribuir um valor a um item específico de uma tupla, o que não é possível porque as tuplas são imutáveis em Python. Para resolver esse erro, podemos criar uma nova tupla com os valores atualizados ou converter a tupla em uma lista, modificar o valor desejado e, em seguida, converter a lista novamente em uma tupla."
   ]
  },
  {
   "cell_type": "markdown",
   "id": "5cfd375a-1efb-4da8-9f5d-41e5f9bfba32",
   "metadata": {
    "tags": []
   },
   "source": [
    "## ValueError\n",
    "Ocorrem quando o tipo de dado é correto, mas o valor é inválido para a operação que está sendo realizada.\n",
    "\n",
    "- `ValueError: invalid literal for int() with base 10`\n",
    "\n",
    "> Uma analogia com uma receita de bolo para esse erro seria tentar usar uma xícara de farinha de trigo para medir uma xícara de açúcar. Ambos são ingredientes em pó, mas são diferentes em suas características e funções na receita. Da mesma forma, a função int() espera receber uma string que represente um número inteiro, mas se você passar uma string que não possa ser convertida em um número, como \"cinco\", o erro ValueError será gerado.\n",
    "\n",
    "Ocorre quando você está tentando converter uma string que não é um número para um número. É como se você estivesse tentando converter o texto `banana` para número, mas `banana` possui letras, e não dígitos. Não é como se você estivesse convertendo um texto `15` para número, que aí sim possuiria somente dígitos.\n",
    "\n",
    "- `ValueError: math domain error`\n",
    "\n",
    "> Analogia com receita de bolo: tentar assar o liquidificador. Você teria que assar a massa do bolo que você preparou, e não este eletrodoméstico.\n",
    "\n",
    "Acontece quando você tenta fazer uma operação que não faz sentido para aquele número. Um exemplo seria calcular a raiz quadrada de um número negativo.\n",
    "\n",
    "- `ValueError: could not convert string to float`\n",
    "\n",
    "> Analogia com receita de bolo: a receita pede para você medir 1/2 xícara de açúcar, mas você acidentalmente coloca farinha na xícara em vez de açúcar. Quando você tenta adicionar a farinha à mistura, ela não funciona da mesma forma que o açúcar e pode estragar todo o bolo.\n",
    "\n",
    "Acontece quando você tenta converter uma string que não é um número para um número, ou quando você tenta converter um número que possui vírgulas no lugar de pontos. É como se você estivesse tentando converter o texto `banana` para número, mas `banana` possui letras, e não dígitos. Não é como se você estivesse convertendo um texto `15.5` para número, que aí sim possuiria somente dígitos e o ponto que divide separa o valor inteiro das casas decimais. Outro exemplo é quando você tentaria converter `15,5`. Em Python, precisamos usar pontos ao invés de vírgulas para dividir o valor inteiro do valor decimal.\n",
    "\n",
    "- `ValueError: not enough values to unpack (expected x, got y)`\n",
    "\n",
    "> Em uma analogia com uma receita de bolo, podemos imaginar que estamos seguindo uma receita que pede para misturar dois ingredientes, mas acabamos adicionando três. Por exemplo, a receita pede para misturar açúcar e manteiga, mas adicionamos também a água. Quando chegamos na etapa de misturar, a receita pede para misturar os dois itens com cuidado para não estragar: só que agora é tarde demais.\n",
    "\n",
    "Ocorre quando tentamos extrair/trabalhar com mais valores do que uma função retorna. Por exemplo, se temos a sequência (1, 2) e tentamos atribuir os valores a três variáveis, teremos um erro desse tipo. Verifique quantos itens realmente existem naquele momento do código."
   ]
  },
  {
   "cell_type": "markdown",
   "id": "684a37bb-d8c5-4cac-b335-92b3cfb888bf",
   "metadata": {},
   "source": [
    "### ZeroDivisionError\n",
    "O tipo TypeError aparece quando se tenta dividir um número por zero em Python. Este erro pode ocorrer em diferentes situações, como em expressões matemáticas que envolvem divisão, ou quando se tenta calcular a média de uma lista vazia, por exemplo.\n",
    "\n",
    "Verifique se o denominador da sua divisão não é zero."
   ]
  },
  {
   "cell_type": "markdown",
   "id": "67c56eb3-a5ea-4b5a-9f8f-adf4b3d70696",
   "metadata": {},
   "source": [
    "## Referências bibliográficas"
   ]
  },
  {
   "cell_type": "markdown",
   "id": "e1aacf96-ae08-482a-9ba7-24bf0280151f",
   "metadata": {},
   "source": [
    "- GEEKSFORGEEKS. Python String Operations. Disponível em: https://www.geeksforgeeks.org/python-strings/. Acesso em: 03 mar. 2023.\n",
    "- MATTHES, E. Python Crash Course: A Hands-On, Project-Based Introduction to Programming. No Starch Press, 2019.\n",
    "- PYTHON. Built-in Exceptions. Disponível em: https://docs.python.org/3/library/exceptions.html. Acesso em: 03 mar. 2023.\n",
    "- PYTHON. Built-in Types: Strings. Disponível em: https://docs.python.org/3/library/stdtypes.html#text-sequence-type-str. Acesso em: 03 mar. 2023.\n",
    "- PYTHON. 4. More Control Flow Tools. Python Documentation, 2022. Disponível em: https://docs.python.org/3/tutorial/controlflow.html#tuples-and-sequences. Acesso em: 03 mar. 2023.\n",
    "- SWEIGART, A. Automate the Boring Stuff with Python: Practical Programming for Total Beginners. No Starch Press, 2019.\n",
    "- W3SCHOOLS. Python Built-in Exceptions. Disponível em: https://www.w3schools.com/python/python_ref_exceptions.asp. Acesso em: 03 mar. 2023."
   ]
  },
  {
   "cell_type": "code",
   "execution_count": null,
   "id": "326add06-5dc7-451b-9520-e3e6c380cc60",
   "metadata": {},
   "outputs": [],
   "source": []
  }
 ],
 "metadata": {
  "kernelspec": {
   "display_name": "Python 3 (ipykernel)",
   "language": "python",
   "name": "python3"
  },
  "language_info": {
   "codemirror_mode": {
    "name": "ipython",
    "version": 3
   },
   "file_extension": ".py",
   "mimetype": "text/x-python",
   "name": "python",
   "nbconvert_exporter": "python",
   "pygments_lexer": "ipython3",
   "version": "3.9.12"
  }
 },
 "nbformat": 4,
 "nbformat_minor": 5
}
